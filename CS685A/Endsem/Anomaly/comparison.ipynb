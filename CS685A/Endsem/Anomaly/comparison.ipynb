{
 "cells": [
  {
   "cell_type": "markdown",
   "metadata": {},
   "source": [
    "# Anomaly Detection"
   ]
  },
  {
   "cell_type": "code",
   "execution_count": 2,
   "metadata": {},
   "outputs": [],
   "source": [
    "from sklearn.neighbors import LocalOutlierFactor\n",
    "import matplotlib.pyplot as plt\n",
    "import pandas as pd\n",
    "import numpy as np"
   ]
  },
  {
   "cell_type": "code",
   "execution_count": 3,
   "metadata": {},
   "outputs": [
    {
     "data": {
      "text/plain": [
       "array([[ 0.287529],\n",
       "       [ 0.199873],\n",
       "       [ 0.184906],\n",
       "       ...,\n",
       "       [ 0.200825],\n",
       "       [-0.328616],\n",
       "       [ 0.079371]])"
      ]
     },
     "execution_count": 3,
     "metadata": {},
     "output_type": "execute_result"
    }
   ],
   "source": [
    "df = pd.read_table(\"anomaly-s050.dat\", sep=\"\\s+\",header=None)\n",
    "data = df.to_numpy()\n",
    "data = data.reshape([10000,1])\n",
    "data"
   ]
  },
  {
   "cell_type": "markdown",
   "metadata": {},
   "source": [
    "## Histogram"
   ]
  },
  {
   "cell_type": "code",
   "execution_count": 4,
   "metadata": {},
   "outputs": [
    {
     "data": {
      "image/png": "[encoded data removed]",
      "text/plain": [
       "<Figure size 432x288 with 1 Axes>"
      ]
     },
     "metadata": {
      "needs_background": "light"
     },
     "output_type": "display_data"
    }
   ],
   "source": [
    "plt.hist(data, bins='auto')\n",
    "plt.xlabel('data-value')\n",
    "plt.ylabel('count')\n",
    "plt.show()"
   ]
  },
  {
   "cell_type": "markdown",
   "metadata": {},
   "source": [
    "## Boxplot"
   ]
  },
  {
   "cell_type": "code",
   "execution_count": 14,
   "metadata": {},
   "outputs": [
    {
     "data": {
      "image/png": "[encoded data removed]",
      "text/plain": [
       "<Figure size 720x504 with 1 Axes>"
      ]
     },
     "metadata": {
      "needs_background": "light"
     },
     "output_type": "display_data"
    }
   ],
   "source": [
    "fig = plt.figure(figsize =(10, 7))\n",
    "ax = fig.add_subplot(111)\n",
    "bp = ax.boxplot(data, patch_artist = True,\n",
    "                notch ='True', vert = 0)"
   ]
  },
  {
   "cell_type": "code",
   "execution_count": 39,
   "metadata": {},
   "outputs": [
    {
     "name": "stdout",
     "output_type": "stream",
     "text": [
      "0.12008730000000004 6.4010095000000025\n"
     ]
    }
   ],
   "source": [
    "upper_limit = np.quantile(data, 0.90)\n",
    "lower_limit = np.quantile(data,0.10)\n",
    "print(lower_limit, upper_limit)"
   ]
  },
  {
   "cell_type": "markdown",
   "metadata": {},
   "source": [
    "## Statistical Method"
   ]
  },
  {
   "cell_type": "code",
   "execution_count": 36,
   "metadata": {},
   "outputs": [
    {
     "name": "stdout",
     "output_type": "stream",
     "text": [
      "2.5060381563000003 3.404343952149514 11.589557744536972\n",
      "-4.302649747999027 9.314726060599028\n",
      "477\n"
     ]
    }
   ],
   "source": [
    "mean = data.mean()\n",
    "std = data.std()\n",
    "sigma = std*std\n",
    "lower_limit = mean-2*std\n",
    "upper_limit = mean+2*std\n",
    "print(mean, std, sigma)\n",
    "print(lower_limit, upper_limit)\n",
    "allowed_data = data[np.where(data>lower_limit)]\n",
    "allowed_data = allowed_data[np.where(allowed_data<upper_limit)]\n",
    "print(len(data) - len(allowed_data))"
   ]
  },
  {
   "cell_type": "markdown",
   "metadata": {},
   "source": [
    "## Tukey's Method"
   ]
  },
  {
   "cell_type": "code",
   "execution_count": 20,
   "metadata": {},
   "outputs": [],
   "source": [
    "def tukey(x, k = 1.5):\n",
    "    x = np.array(x).copy().astype(float)\n",
    "    first_quartile = np.quantile(x, .25)\n",
    "    third_quartile = np.quantile(x, .75)\n",
    "    \n",
    "    # Define IQR\n",
    "    iqr = third_quartile - first_quartile\n",
    "    \n",
    "    ### Define the allowed limits for 'Normal Data'\n",
    "    lower_allowed_limit = first_quartile - (k * iqr)\n",
    "    upper_allowed_limit = third_quartile + (k * iqr)\n",
    "\n",
    "    print(lower_allowed_limit, upper_allowed_limit)\n",
    "    \n",
    "    #set values below the lower limit/above the upper limit as nan\n",
    "    x[(x<lower_allowed_limit) | (x>upper_allowed_limit)] = np.nan\n",
    "    return x"
   ]
  },
  {
   "cell_type": "code",
   "execution_count": 27,
   "metadata": {},
   "outputs": [
    {
     "name": "stdout",
     "output_type": "stream",
     "text": [
      "-6.76108375 10.44064625\n"
     ]
    },
    {
     "data": {
      "text/plain": [
       "372"
      ]
     },
     "execution_count": 27,
     "metadata": {},
     "output_type": "execute_result"
    }
   ],
   "source": [
    "x = tukey(data, k=2.5)\n",
    "c = np.count_nonzero(np.isnan(x))\n",
    "c"
   ]
  },
  {
   "cell_type": "markdown",
   "metadata": {},
   "source": [
    "## Z-Score"
   ]
  },
  {
   "cell_type": "code",
   "execution_count": 5,
   "metadata": {},
   "outputs": [
    {
     "name": "stdout",
     "output_type": "stream",
     "text": [
      "477\n"
     ]
    }
   ],
   "source": [
    "result = []\n",
    "\n",
    "mean = data.mean()\n",
    "std = data.std()\n",
    "threshold = 2.0\n",
    "count_anomaly = 0\n",
    "\n",
    "for x in data:\n",
    "    z_score = (x-mean)/std\n",
    "    if z_score>threshold:\n",
    "        count_anomaly = count_anomaly+1\n",
    "        result.append(1)\n",
    "    else:\n",
    "        result.append(0)\n",
    "result = np.asarray(result)\n",
    "outliers = result.reshape([100,100])\n",
    "print(count_anomaly)"
   ]
  }
 ],
 "metadata": {
  "interpreter": {
   "hash": "916dbcbb3f70747c44a77c7bcd40155683ae19c65e1c03b4aa3499c5328201f1"
  },
  "kernelspec": {
   "display_name": "Python 3.8.10 64-bit",
   "name": "python3"
  },
  "language_info": {
   "codemirror_mode": {
    "name": "ipython",
    "version": 3
   },
   "file_extension": ".py",
   "mimetype": "text/x-python",
   "name": "python",
   "nbconvert_exporter": "python",
   "pygments_lexer": "ipython3",
   "version": "3.8.10"
  },
  "orig_nbformat": 4
 },
 "nbformat": 4,
 "nbformat_minor": 2
}
